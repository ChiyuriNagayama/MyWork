{
 "cells": [
  {
   "cell_type": "markdown",
   "id": "5672e0e0-a6a1-406d-9163-d11c6756b345",
   "metadata": {},
   "source": [
    "一括写真収集"
   ]
  },
  {
   "cell_type": "code",
   "execution_count": null,
   "id": "c8827475",
   "metadata": {},
   "outputs": [],
   "source": [
    "%run photo_month.py"
   ]
  },
  {
   "cell_type": "markdown",
   "id": "68a27a9a-8118-47dc-a388-ae161f9c8dc2",
   "metadata": {},
   "source": [
    "＋α 写真収集"
   ]
  },
  {
   "cell_type": "code",
   "execution_count": null,
   "id": "a7eab2aa",
   "metadata": {},
   "outputs": [],
   "source": [
    "%run photo_day.py"
   ]
  },
  {
   "cell_type": "code",
   "execution_count": null,
   "id": "8a84af11",
   "metadata": {},
   "outputs": [],
   "source": [
    "%run tag.py"
   ]
  },
  {
   "cell_type": "markdown",
   "id": "1a730a1f-d396-40c0-8bf1-4ca683e52bec",
   "metadata": {},
   "source": [
    "タグ生成（通常）"
   ]
  },
  {
   "cell_type": "code",
   "execution_count": null,
   "id": "55c8f67e-587e-43a8-9047-eeb22da20aff",
   "metadata": {},
   "outputs": [],
   "source": [
    "%run tag_normal.py"
   ]
  },
  {
   "cell_type": "markdown",
   "id": "2bc9c3e7-b140-4706-8875-1eb244bd48ec",
   "metadata": {},
   "source": [
    "タグ生成（日本語）"
   ]
  },
  {
   "cell_type": "code",
   "execution_count": null,
   "id": "1f9152cd-bc20-41fa-8548-fa2ed0fab25f",
   "metadata": {},
   "outputs": [],
   "source": [
    "%run tag_weekend.py"
   ]
  },
  {
   "cell_type": "markdown",
   "id": "03c2208b-1759-4d87-8e21-e79855f994cb",
   "metadata": {},
   "source": [
    "ランダム番号振り（.png .jpg）"
   ]
  },
  {
   "cell_type": "code",
   "execution_count": null,
   "id": "efdc5839-5b64-41f0-9a26-2d4fcba04fad",
   "metadata": {},
   "outputs": [],
   "source": [
    "%run random_normal.py"
   ]
  },
  {
   "cell_type": "markdown",
   "id": "be44791a-c345-46fa-a664-cf62eae28dd2",
   "metadata": {},
   "source": [
    "ランダム番号振り（.gif）"
   ]
  },
  {
   "cell_type": "code",
   "execution_count": null,
   "id": "c72bb95b-56cb-4c9b-8c1b-88bb8c3bc29a",
   "metadata": {},
   "outputs": [],
   "source": [
    "%run random_gif.py"
   ]
  },
  {
   "cell_type": "markdown",
   "id": "8346124f-0508-48ef-9704-c52e0149f92a",
   "metadata": {},
   "source": [
    "ランダム番号振り（.mov）"
   ]
  },
  {
   "cell_type": "code",
   "execution_count": null,
   "id": "72aa7123-77c4-4940-b99b-7316bce75d07",
   "metadata": {},
   "outputs": [],
   "source": [
    "%run random_mov.py"
   ]
  },
  {
   "cell_type": "markdown",
   "id": "82654594-9cdb-4709-981d-5d69536532c0",
   "metadata": {},
   "source": [
    "フォルダ分け"
   ]
  },
  {
   "cell_type": "code",
   "execution_count": null,
   "id": "21e3f942-10a7-489f-900e-6a544e72451c",
   "metadata": {},
   "outputs": [],
   "source": [
    "%run folder_class.py"
   ]
  },
  {
   "cell_type": "code",
   "execution_count": null,
   "id": "4aac1f19-3c1d-4452-8894-769d66ea2a78",
   "metadata": {},
   "outputs": [],
   "source": []
  }
 ],
 "metadata": {
  "kernelspec": {
   "display_name": "Python 3 (ipykernel)",
   "language": "python",
   "name": "python3"
  },
  "language_info": {
   "codemirror_mode": {
    "name": "ipython",
    "version": 3
   },
   "file_extension": ".py",
   "mimetype": "text/x-python",
   "name": "python",
   "nbconvert_exporter": "python",
   "pygments_lexer": "ipython3",
   "version": "3.9.12"
  }
 },
 "nbformat": 4,
 "nbformat_minor": 5
}
